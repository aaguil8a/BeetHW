{
 "cells": [
  {
   "cell_type": "code",
   "execution_count": 2,
   "metadata": {},
   "outputs": [],
   "source": [
    "\n",
    "# Task 1\n",
    "def favorite_movie(name: str) -> str:\n",
    "    print(\"My favorite movie is named \" + name)\n",
    "\n",
    "\n",
    " "
   ]
  },
  {
   "cell_type": "code",
   "execution_count": 3,
   "metadata": {},
   "outputs": [
    {
     "data": {
      "text/plain": [
       "{'name': 'USA', 'capital': 'Washington DC'}"
      ]
     },
     "execution_count": 3,
     "metadata": {},
     "output_type": "execute_result"
    }
   ],
   "source": [
    "# Task 2\n",
    "\n",
    "def make_country(name: str, capital: str) -> dict:\n",
    "    country = {\"name\": name, \"capital\": capital}\n",
    "    return country\n",
    "\n",
    "make_country(\"USA\", \"Washington DC\")"
   ]
  },
  {
   "cell_type": "code",
   "execution_count": 7,
   "metadata": {},
   "outputs": [
    {
     "name": "stdout",
     "output_type": "stream",
     "text": [
      "16\n",
      "20\n",
      "42\n"
     ]
    }
   ],
   "source": [
    "# Task 3\n",
    "\n",
    "def make_operation(operator: str, *args: int) -> int:\n",
    "    if operator == \"+\":\n",
    "        return sum(args)\n",
    "    elif operator == \"-\":\n",
    "        return sum(args) * -1\n",
    "    elif operator == \"*\":\n",
    "        product = 1\n",
    "        for i in args:\n",
    "            product *= i\n",
    "        return product\n",
    "\n",
    "print(make_operation(\"+\", 7, 7, 2))\n",
    "print(make_operation(\"-\", 5, 5, -10, -20))\n",
    "print(make_operation(\"*\", 7, 6))"
   ]
  }
 ],
 "metadata": {
  "kernelspec": {
   "display_name": "Python 3.9.13 64-bit (microsoft store)",
   "language": "python",
   "name": "python3"
  },
  "language_info": {
   "codemirror_mode": {
    "name": "ipython",
    "version": 3
   },
   "file_extension": ".py",
   "mimetype": "text/x-python",
   "name": "python",
   "nbconvert_exporter": "python",
   "pygments_lexer": "ipython3",
   "version": "3.9.13"
  },
  "orig_nbformat": 4,
  "vscode": {
   "interpreter": {
    "hash": "974b43216d4ed2194e5b93eed362d2b3902509ae28d8a114240f2ec457f8ec62"
   }
  }
 },
 "nbformat": 4,
 "nbformat_minor": 2
}
