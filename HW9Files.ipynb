{
 "cells": [
  {
   "cell_type": "code",
   "execution_count": 1,
   "metadata": {},
   "outputs": [
    {
     "name": "stdout",
     "output_type": "stream",
     "text": [
      "Hello file world!\n"
     ]
    }
   ],
   "source": [
    "# task 1\n",
    "with open(\"myfile.txt\", \"w\") as f:\n",
    "    f.write(\"Hello file world!\")\n",
    "    \n",
    "\n",
    "with open(\"myfile.txt\", \"r\") as f:\n",
    "    x = f.read()\n",
    "    print(x)"
   ]
  },
  {
   "cell_type": "code",
   "execution_count": 8,
   "metadata": {},
   "outputs": [
    {
     "ename": "TypeError",
     "evalue": "'in <string>' requires string as left operand, not int",
     "output_type": "error",
     "traceback": [
      "\u001b[1;31m---------------------------------------------------------------------------\u001b[0m",
      "\u001b[1;31mTypeError\u001b[0m                                 Traceback (most recent call last)",
      "\u001b[1;32mc:\\Users\\edwar\\OneDrive\\Desktop\\Homework\\Files.ipynb Cell 2\u001b[0m in \u001b[0;36m<cell line: 23>\u001b[1;34m()\u001b[0m\n\u001b[0;32m     <a href='vscode-notebook-cell:/c%3A/Users/edwar/OneDrive/Desktop/Homework/Files.ipynb#W1sZmlsZQ%3D%3D?line=18'>19</a>\u001b[0m     \u001b[39melse\u001b[39;00m:\n\u001b[0;32m     <a href='vscode-notebook-cell:/c%3A/Users/edwar/OneDrive/Desktop/Homework/Files.ipynb#W1sZmlsZQ%3D%3D?line=19'>20</a>\u001b[0m         \u001b[39mreturn\u001b[39;00m \u001b[39m\"\u001b[39m\u001b[39mNot found\u001b[39m\u001b[39m\"\u001b[39m\n\u001b[1;32m---> <a href='vscode-notebook-cell:/c%3A/Users/edwar/OneDrive/Desktop/Homework/Files.ipynb#W1sZmlsZQ%3D%3D?line=22'>23</a>\u001b[0m search_by_name(\u001b[39m1\u001b[39;49m)\n",
      "\u001b[1;32mc:\\Users\\edwar\\OneDrive\\Desktop\\Homework\\Files.ipynb Cell 2\u001b[0m in \u001b[0;36msearch_by_name\u001b[1;34m(name)\u001b[0m\n\u001b[0;32m     <a href='vscode-notebook-cell:/c%3A/Users/edwar/OneDrive/Desktop/Homework/Files.ipynb#W1sZmlsZQ%3D%3D?line=15'>16</a>\u001b[0m \u001b[39mdef\u001b[39;00m \u001b[39msearch_by_name\u001b[39m(name):\n\u001b[1;32m---> <a href='vscode-notebook-cell:/c%3A/Users/edwar/OneDrive/Desktop/Homework/Files.ipynb#W1sZmlsZQ%3D%3D?line=16'>17</a>\u001b[0m     \u001b[39mif\u001b[39;00m name \u001b[39min\u001b[39;49;00m x:\n\u001b[0;32m     <a href='vscode-notebook-cell:/c%3A/Users/edwar/OneDrive/Desktop/Homework/Files.ipynb#W1sZmlsZQ%3D%3D?line=17'>18</a>\u001b[0m         \u001b[39mreturn\u001b[39;00m x[name]\n\u001b[0;32m     <a href='vscode-notebook-cell:/c%3A/Users/edwar/OneDrive/Desktop/Homework/Files.ipynb#W1sZmlsZQ%3D%3D?line=18'>19</a>\u001b[0m     \u001b[39melse\u001b[39;00m:\n",
      "\u001b[1;31mTypeError\u001b[0m: 'in <string>' requires string as left operand, not int"
     ]
    }
   ],
   "source": [
    "# open json file\n",
    "\n",
    "import os\n",
    "\n",
    "\n",
    "\n",
    "if os.path.isfile(\"phone_book.json\"):\n",
    "    with open(\"phone_book.json\", \"r\") as f:\n",
    "        x = f.read()\n",
    "    \n",
    "\n",
    "else:\n",
    "    raise FileNotFoundError(\"File not found\")\n",
    "\n",
    "\n"
   ]
  }
 ],
 "metadata": {
  "kernelspec": {
   "display_name": "Python 3.10.4 64-bit",
   "language": "python",
   "name": "python3"
  },
  "language_info": {
   "codemirror_mode": {
    "name": "ipython",
    "version": 3
   },
   "file_extension": ".py",
   "mimetype": "text/x-python",
   "name": "python",
   "nbconvert_exporter": "python",
   "pygments_lexer": "ipython3",
   "version": "3.10.4"
  },
  "orig_nbformat": 4,
  "vscode": {
   "interpreter": {
    "hash": "b496d8a2978c58f55cfcd3e64c52c26eedfbefc621f222e6faf7cbb5a78b8741"
   }
  }
 },
 "nbformat": 4,
 "nbformat_minor": 2
}
