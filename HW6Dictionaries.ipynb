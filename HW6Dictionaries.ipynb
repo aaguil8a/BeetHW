{
 "cells": [
  {
   "cell_type": "code",
   "execution_count": 3,
   "metadata": {},
   "outputs": [
    {
     "name": "stdout",
     "output_type": "stream",
     "text": [
      "{'I': 2, 'am': 1, 'a': 1, 'sentence': 2, 'with': 1, 'some': 1, 'words': 1, 'in': 1, 'it': 1}\n"
     ]
    }
   ],
   "source": [
    "# Task 1\n",
    "\n",
    "def word_count(string):\n",
    "    word_list = string.split()\n",
    "    word_dict = {}\n",
    "    for word in word_list:\n",
    "        if word in word_dict:\n",
    "            word_dict[word] += 1\n",
    "        else:\n",
    "            word_dict[word] = 1\n",
    "    return word_dict\n",
    "\n",
    "print(word_count(\"I I am a sentence sentence with some words in it\"))"
   ]
  },
  {
   "cell_type": "code",
   "execution_count": 4,
   "metadata": {},
   "outputs": [
    {
     "name": "stdout",
     "output_type": "stream",
     "text": [
      "8.5\n"
     ]
    }
   ],
   "source": [
    "# task 2\n",
    "\n",
    "stock = {\n",
    "    \"banana\": 6,\n",
    "    \"apple\": 0,\n",
    "    \"orange\": 32,\n",
    "    \"pear\": 15\n",
    "}\n",
    "prices = {\n",
    "    \"banana\": 4,\n",
    "    \"apple\": 2,\n",
    "    \"orange\": 1.5,\n",
    "    \"pear\": 3\n",
    "}\n",
    "\n",
    "\n",
    "def compute(food, food2):\n",
    "    total = 0\n",
    "    for item in food:\n",
    "        if food[item] > 0:\n",
    "            total += food2[item]\n",
    "            food[item] -= 1\n",
    "\n",
    "    return total\n",
    "\n",
    "print(compute(stock, prices))\n",
    "    "
   ]
  },
  {
   "cell_type": "code",
   "execution_count": 5,
   "metadata": {},
   "outputs": [
    {
     "name": "stdout",
     "output_type": "stream",
     "text": [
      "[(1, 1), (2, 4), (3, 9), (4, 16), (5, 25), (6, 36), (7, 49), (8, 64), (9, 81), (10, 100)]\n"
     ]
    }
   ],
   "source": [
    "# Task 3\n",
    "\n",
    "print([(i, i**2) for i in range(1, 11)])\n",
    "\n",
    " "
   ]
  }
 ],
 "metadata": {
  "kernelspec": {
   "display_name": "Python 3.9.13 64-bit (microsoft store)",
   "language": "python",
   "name": "python3"
  },
  "language_info": {
   "codemirror_mode": {
    "name": "ipython",
    "version": 3
   },
   "file_extension": ".py",
   "mimetype": "text/x-python",
   "name": "python",
   "nbconvert_exporter": "python",
   "pygments_lexer": "ipython3",
   "version": "3.9.13"
  },
  "orig_nbformat": 4,
  "vscode": {
   "interpreter": {
    "hash": "974b43216d4ed2194e5b93eed362d2b3902509ae28d8a114240f2ec457f8ec62"
   }
  }
 },
 "nbformat": 4,
 "nbformat_minor": 2
}
