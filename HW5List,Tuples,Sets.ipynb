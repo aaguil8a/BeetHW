{
 "cells": [
  {
   "cell_type": "code",
   "execution_count": 2,
   "metadata": {},
   "outputs": [
    {
     "name": "stdout",
     "output_type": "stream",
     "text": [
      "[68, 47, 73, 85, 92, 50, 10, 44, 42, 51]\n"
     ]
    }
   ],
   "source": [
    "# task 1\n",
    "\n",
    "import random\n",
    "\n",
    "def max_num_in_list( list ):\n",
    "    while list:\n",
    "        max = list[0]\n",
    "        for x in list:\n",
    "            if x > max:\n",
    "                max = x\n",
    "        return max\n",
    "\n",
    "random_list = [random.randint(0,100) for i in range(10)]\n",
    "print(random_list)\n"
   ]
  },
  {
   "cell_type": "code",
   "execution_count": null,
   "metadata": {},
   "outputs": [],
   "source": [
    "# Exclusive common numbers.\n",
    "\n",
    "# Generate 2 lists with the length of 10 with random integers from 1 to 10, and make a third list containing the common\n",
    "#  integers between the 2 initial lists without any duplicates.\n",
    "\n",
    "# Constraints: use only while loop and random module to generate numbers\n"
   ]
  }
 ],
 "metadata": {
  "kernelspec": {
   "display_name": "Python 3.9.13 64-bit (microsoft store)",
   "language": "python",
   "name": "python3"
  },
  "language_info": {
   "codemirror_mode": {
    "name": "ipython",
    "version": 3
   },
   "file_extension": ".py",
   "mimetype": "text/x-python",
   "name": "python",
   "nbconvert_exporter": "python",
   "pygments_lexer": "ipython3",
   "version": "3.9.13"
  },
  "orig_nbformat": 4,
  "vscode": {
   "interpreter": {
    "hash": "974b43216d4ed2194e5b93eed362d2b3902509ae28d8a114240f2ec457f8ec62"
   }
  }
 },
 "nbformat": 4,
 "nbformat_minor": 2
}
