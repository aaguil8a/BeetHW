{
 "cells": [
  {
   "cell_type": "code",
   "execution_count": 17,
   "metadata": {},
   "outputs": [
    {
     "name": "stdout",
     "output_type": "stream",
     "text": [
      "Hello, my name is Carl Jonhson and I am 26 years old.\n"
     ]
    }
   ],
   "source": [
    "# Task 1\n",
    "class Person:\n",
    "    def __init__(self, firstname, lastname, age):\n",
    "        self.firstname = firstname\n",
    "        self.lastname = lastname\n",
    "        self.age = age\n",
    "    \n",
    "    def talk(self):\n",
    "        print(f\"Hello, my name is {self.firstname} {self.lastname} and I am {self.age} years old.\")\n",
    "\n",
    "p1 = Person(\"Carl\", \"Jonhson\", 26)\n",
    "p1.talk()"
   ]
  },
  {
   "cell_type": "code",
   "execution_count": 4,
   "metadata": {},
   "outputs": [
    {
     "name": "stdout",
     "output_type": "stream",
     "text": [
      "35\n"
     ]
    }
   ],
   "source": [
    "# Task 2\n",
    "class Dog:\n",
    "    age_factor = 7\n",
    "    \n",
    "    def __init__(self, age):\n",
    "        self.age = age\n",
    "    \n",
    "    def human_age(self):\n",
    "        return self.age * self.age_factor\n",
    "\n",
    "\n",
    "dog = Dog(5)\n",
    "print(dog.human_age())"
   ]
  },
  {
   "cell_type": "code",
   "execution_count": 19,
   "metadata": {},
   "outputs": [
    {
     "data": {
      "text/plain": [
       "True"
      ]
     },
     "execution_count": 19,
     "metadata": {},
     "output_type": "execute_result"
    }
   ],
   "source": [
    "# Task 3\n",
    "\n",
    "from typing import overload\n",
    "\n",
    "\n",
    "CHANNELS = [\"BBC\", \"Discovery\", \"TV1000\"]\n",
    "\n",
    "class TVController:\n",
    "    def __init__(self, channels):\n",
    "        self.channels = channels\n",
    "        self.current_channel = 0\n",
    "    \n",
    "    def first_channel(self):\n",
    "        self.current_channel = 0\n",
    "        return self.channels[self.current_channel]\n",
    "\n",
    "    def last_channel(self):\n",
    "        self.current_channel = len(self.channels) - 1\n",
    "        return self.channels[self.current_channel]\n",
    "\n",
    "    def turn_channel(self, channel):\n",
    "        self.current_channel = channel - 1\n",
    "        return self.channels[self.current_channel]\n",
    "    \n",
    "\n",
    "    def next_channel(self):\n",
    "        if self.current_channel == len(self.channels) - 1:\n",
    "            self.current_channel = 0\n",
    "        else:\n",
    "            self.current_channel += 1\n",
    "        return self.channels[self.current_channel]\n",
    "\n",
    "\n",
    "    def previous_channel(self):\n",
    "        if self.current_channel == 0:\n",
    "            self.current_channel = len(self.channels) - 1\n",
    "        else:\n",
    "            self.current_channel -= 1\n",
    "        return self.channels[self.current_channel]\n",
    "    \n",
    "   \n",
    "    def current_channel(self):\n",
    "        return self.channels[self.current_channel]\n",
    "\n",
    "    def is_exist(self, channel):\n",
    "        if isinstance(channel, int):\n",
    "            if channel <= len(self.channels):\n",
    "                return \"Yes\"\n",
    "            else:\n",
    "                return \"No\"\n",
    "        elif isinstance(channel, str):\n",
    "            if channel in self.channels:\n",
    "                return \"Yes\"\n",
    "            else:\n",
    "                return \"No\"\n",
    "        else:\n",
    "            return \"No\"\n",
    "\n",
    "\n",
    "    \n",
    "\n",
    "    \n",
    "\n",
    "\n",
    "controller = TVController(CHANNELS)\n",
    "\n",
    "\n",
    "controller.first_channel() == \"BBC\"\n",
    "controller.last_channel() == \"TV1000\"\n",
    "controller.turn_channel(1) == \"BBC\"\n",
    "controller.next_channel() == \"Discovery\"\n",
    "controller.previous_channel() == \"BBC\"\n",
    "controller.current_channel() == \"BBC\"\n",
    "controller.is_exist(4) == \"No\"\n",
    "controller.is_exist(\"BBC\") == \"Yes\""
   ]
  }
 ],
 "metadata": {
  "kernelspec": {
   "display_name": "Python 3.10.4 64-bit",
   "language": "python",
   "name": "python3"
  },
  "language_info": {
   "codemirror_mode": {
    "name": "ipython",
    "version": 3
   },
   "file_extension": ".py",
   "mimetype": "text/x-python",
   "name": "python",
   "nbconvert_exporter": "python",
   "pygments_lexer": "ipython3",
   "version": "3.10.4"
  },
  "orig_nbformat": 4,
  "vscode": {
   "interpreter": {
    "hash": "b496d8a2978c58f55cfcd3e64c52c26eedfbefc621f222e6faf7cbb5a78b8741"
   }
  }
 },
 "nbformat": 4,
 "nbformat_minor": 2
}
