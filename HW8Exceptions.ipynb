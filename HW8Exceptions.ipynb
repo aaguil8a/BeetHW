{
 "cells": [
  {
   "cell_type": "code",
   "execution_count": 1,
   "metadata": {},
   "outputs": [],
   "source": [
    "# task 1\n",
    "\n",
    "def oops():\n",
    "    raise IndexError\n",
    "\n",
    "def oops2():\n",
    "    try:\n",
    "        oops()\n",
    "    except IndexError:\n",
    "        print(\"IndexError\")\n",
    "\n",
    "\n"
   ]
  },
  {
   "cell_type": "code",
   "execution_count": 4,
   "metadata": {},
   "outputs": [
    {
     "ename": "ZeroDivisionError",
     "evalue": "division by zero",
     "output_type": "error",
     "traceback": [
      "\u001b[1;31m---------------------------------------------------------------------------\u001b[0m",
      "\u001b[1;31mZeroDivisionError\u001b[0m                         Traceback (most recent call last)",
      "\u001b[1;32mc:\\Users\\edwar\\OneDrive\\Desktop\\Homework\\Exceptions.ipynb Cell 2\u001b[0m in \u001b[0;36m<cell line: 18>\u001b[1;34m()\u001b[0m\n\u001b[0;32m     <a href='vscode-notebook-cell:/c%3A/Users/edwar/OneDrive/Desktop/Homework/Exceptions.ipynb#W1sZmlsZQ%3D%3D?line=13'>14</a>\u001b[0m     \u001b[39mexcept\u001b[39;00m \u001b[39mZeroDivisionError\u001b[39;00m:\n\u001b[0;32m     <a href='vscode-notebook-cell:/c%3A/Users/edwar/OneDrive/Desktop/Homework/Exceptions.ipynb#W1sZmlsZQ%3D%3D?line=14'>15</a>\u001b[0m         \u001b[39mprint\u001b[39m(\u001b[39m\"\u001b[39m\u001b[39mCannot divide by zero\u001b[39m\u001b[39m\"\u001b[39m)\n\u001b[1;32m---> <a href='vscode-notebook-cell:/c%3A/Users/edwar/OneDrive/Desktop/Homework/Exceptions.ipynb#W1sZmlsZQ%3D%3D?line=17'>18</a>\u001b[0m two_numbers(\u001b[39m1\u001b[39;49m\u001b[39m/\u001b[39;49m\u001b[39m0\u001b[39;49m)\n",
      "\u001b[1;31mZeroDivisionError\u001b[0m: division by zero"
     ]
    }
   ],
   "source": [
    "# task 2\n",
    "def  two_numbers(int) -> int:\n",
    "    try:\n",
    "        a = int(input(\"Enter a number: \"))\n",
    "        b = int(input(\"Enter another number: \"))\n",
    "        return a**2/b\n",
    "    except ValueError:\n",
    "        print(\"Please enter a number\")\n",
    "    except ZeroDivisionError:\n",
    "        print(\"Cannot divide by zero\")\n",
    "\n",
    "\n"
   ]
  }
 ],
 "metadata": {
  "kernelspec": {
   "display_name": "Python 3.9.13 64-bit (microsoft store)",
   "language": "python",
   "name": "python3"
  },
  "language_info": {
   "codemirror_mode": {
    "name": "ipython",
    "version": 3
   },
   "file_extension": ".py",
   "mimetype": "text/x-python",
   "name": "python",
   "nbconvert_exporter": "python",
   "pygments_lexer": "ipython3",
   "version": "3.9.13"
  },
  "orig_nbformat": 4,
  "vscode": {
   "interpreter": {
    "hash": "974b43216d4ed2194e5b93eed362d2b3902509ae28d8a114240f2ec457f8ec62"
   }
  }
 },
 "nbformat": 4,
 "nbformat_minor": 2
}
